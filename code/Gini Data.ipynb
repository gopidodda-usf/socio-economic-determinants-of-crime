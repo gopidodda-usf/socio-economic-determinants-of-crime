{
 "cells": [
  {
   "cell_type": "code",
   "execution_count": 1,
   "id": "54471308-fca1-4790-a490-808fa037c33c",
   "metadata": {},
   "outputs": [],
   "source": [
    "import pandas as pd\n",
    "import requests\n",
    "import warnings\n",
    "warnings.filterwarnings(\"ignore\")"
   ]
  },
  {
   "cell_type": "code",
   "execution_count": 2,
   "id": "9c74aaf9-5df6-4999-9f6e-9ac89032dbc2",
   "metadata": {},
   "outputs": [],
   "source": [
    "api_key = 'affdac5f248f69b65c935406621fe7ca9e349a23'\n",
    "years = list(range(2010,2024))\n",
    "\n",
    "all_data = []\n",
    "\n",
    "for year in years:\n",
    "    base_url = f\"https://api.census.gov/data/{year}/acs/acs5\"\n",
    "    params = {\n",
    "        \"get\": \"NAME,B19083_001E\",\n",
    "        \"for\": \"state:*\"\n",
    "    }\n",
    "    response = requests.get(base_url, params = params)\n",
    "    if response.status_code == 200:\n",
    "        data = response.json()\n",
    "        columns = data[0]\n",
    "        rows = data[1:]\n",
    "        df = pd.DataFrame(rows,columns = columns)\n",
    "        df['Year'] = year\n",
    "        all_data.append(df)\n",
    "\n",
    "if all_data:\n",
    "    final_df = pd.concat(all_data, ignore_index = True)\n",
    "    final_df = final_df[['Year', 'NAME', 'B19083_001E']]\n",
    "    final_df.columns = ['Year', 'State', 'Gini Index']\n",
    "\n",
    "final_df['Gini Index'] = pd.to_numeric(final_df['Gini Index'], errors = 'coerce')\n",
    "final_df = final_df[~(final_df['State']=='Puerto Rico')]\n",
    "final_df.sort_values(by = ['State','Year'], inplace = True, ignore_index = True)\n",
    "\n",
    "final_df.to_excel('gini_index_2010_2023.xlsx', sheet_name = 'Gini Index')\n"
   ]
  },
  {
   "cell_type": "code",
   "execution_count": null,
   "id": "960f3c62-c89e-4b31-a112-02e25ae447f9",
   "metadata": {},
   "outputs": [],
   "source": []
  },
  {
   "cell_type": "code",
   "execution_count": null,
   "id": "3cc9570f-279e-4ad9-8558-977d7268ed7b",
   "metadata": {},
   "outputs": [],
   "source": []
  },
  {
   "cell_type": "code",
   "execution_count": null,
   "id": "6e4f41b7-4163-44e0-9168-b7781eb4b2fd",
   "metadata": {},
   "outputs": [],
   "source": []
  }
 ],
 "metadata": {
  "kernelspec": {
   "display_name": "Python 3 (ipykernel)",
   "language": "python",
   "name": "python3"
  },
  "language_info": {
   "codemirror_mode": {
    "name": "ipython",
    "version": 3
   },
   "file_extension": ".py",
   "mimetype": "text/x-python",
   "name": "python",
   "nbconvert_exporter": "python",
   "pygments_lexer": "ipython3",
   "version": "3.12.7"
  }
 },
 "nbformat": 4,
 "nbformat_minor": 5
}
