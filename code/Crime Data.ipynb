{
 "cells": [
  {
   "cell_type": "code",
   "execution_count": 1,
   "id": "cfdf2cec-205f-4709-a6f3-27e8fce08c14",
   "metadata": {},
   "outputs": [],
   "source": [
    "import pandas as pd\n",
    "import requests\n",
    "import warnings\n",
    "warnings.filterwarnings(\"ignore\")"
   ]
  },
  {
   "cell_type": "code",
   "execution_count": 2,
   "id": "5b94e20b-d4b6-4409-9f2c-b843b2a60fbc",
   "metadata": {},
   "outputs": [],
   "source": [
    "api_key = 'Fqx6qkeb9Xd8heFqXGIsDqYhP2YOVwfOSV0skodn'\n",
    "base_url = 'https://api.usa.gov/crime/fbi/cde/summarized/state'\n",
    "\n",
    "states = ['AL','AK','AZ','AR','CA','CO','CT','DE','FL','GA',\n",
    "          'HI','ID','IL','IN','IA','KS','KY','LA','ME','MD',\n",
    "          'MA','MI','MN','MS','MO','MT','NE','NV','NH','NJ',\n",
    "          'NM','NY','NC','ND','OH','OK','OR','PA','RI','SC',\n",
    "          'SD','TN','TX','UT','VT','VA','WA','WV','WI','WY',\n",
    "          'DC']\n",
    "\n",
    "offenses = ['V','ASS','BUR','LAR','MVT','HOM','RPE','ROB','ARS','P']\n",
    "\n",
    "offense_names = {\n",
    "    'V'  : 'Violent Crime',\n",
    "    'ASS': 'Assault',\n",
    "    'BUR': 'Burglary',\n",
    "    'LAR': 'Larceny',\n",
    "    'MVT': 'Motor Vehicle Theft',\n",
    "    'HOM': 'Homicide',\n",
    "    'RPE': 'Rape',\n",
    "    'ROB': 'Robbery',\n",
    "    'ARS': 'Arson',\n",
    "    'P'  : 'Property Crime'\n",
    "}\n",
    "\n",
    "all_data = []\n",
    "\n",
    "for state in states:\n",
    "    for offense in offenses:\n",
    "        url = f\"{base_url}/{state}/{offense}?from=01-2010&to=12-2023&api_key={api_key}\"\n",
    "        response = requests.get(url)\n",
    "        if response.status_code == 200:\n",
    "            data = response.json()\n",
    "            actuals = data.get('offenses', {}).get('actuals', {})\n",
    "            populations = data.get('populations', {}).get('population', {})\n",
    "\n",
    "            if actuals:\n",
    "                state_name = list(actuals.keys())[0]\n",
    "                monthly_crimes = actuals[state_name]\n",
    "                monthly_pops = populations.get(state_name, {})\n",
    "\n",
    "                for month_year, crime_count in monthly_crimes.items():\n",
    "                    population = monthly_pops.get(month_year, None)\n",
    "                    all_data.append({\n",
    "                        'Month Year': month_year,\n",
    "                        'State': state,\n",
    "                        'State Name': state_name,\n",
    "                        'Offense Code': offense,\n",
    "                        'Offense Name': offense_names[offense],\n",
    "                        'Crime Count': crime_count,\n",
    "                        'Population': population\n",
    "                    })\n",
    "\n",
    "df = pd.DataFrame(all_data, columns = ['Month Year','State','State Name','Offense Code','Offense Name','Crime Count','Population'])\n",
    "df['Date'] = pd.to_datetime(df['Month Year'], format='%m-%Y')\n",
    "df['Year'] = pd.to_datetime(df['Date']).dt.year.astype(int)\n",
    "df = df[['Date','Year','State Name','Offense Name','Crime Count','Population']]\n",
    "\n",
    "final_df = df.groupby(['Year','State Name','Offense Name'], as_index = False).agg({'Crime Count' : 'sum', 'Population' : 'max'})\n",
    "final_df.sort_values(by = ['State Name','Offense Name','Year'], inplace = True, ignore_index = True)\n",
    "\n",
    "final_df.to_excel('crime_data_2010_2023.xlsx', sheet_name = 'Crime Data')\n"
   ]
  },
  {
   "cell_type": "code",
   "execution_count": null,
   "id": "61e54250-b380-4936-9074-fc78aac4d480",
   "metadata": {},
   "outputs": [],
   "source": []
  },
  {
   "cell_type": "code",
   "execution_count": null,
   "id": "4a0e8e9b-22f0-4b00-b773-4b31f25c794a",
   "metadata": {},
   "outputs": [],
   "source": []
  },
  {
   "cell_type": "code",
   "execution_count": null,
   "id": "81056d9b-5097-4b92-9bec-29c8ba381a72",
   "metadata": {},
   "outputs": [],
   "source": []
  }
 ],
 "metadata": {
  "kernelspec": {
   "display_name": "Python 3 (ipykernel)",
   "language": "python",
   "name": "python3"
  },
  "language_info": {
   "codemirror_mode": {
    "name": "ipython",
    "version": 3
   },
   "file_extension": ".py",
   "mimetype": "text/x-python",
   "name": "python",
   "nbconvert_exporter": "python",
   "pygments_lexer": "ipython3",
   "version": "3.12.7"
  }
 },
 "nbformat": 4,
 "nbformat_minor": 5
}
