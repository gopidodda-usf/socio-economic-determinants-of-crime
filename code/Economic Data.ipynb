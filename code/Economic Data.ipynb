{
 "cells": [
  {
   "cell_type": "code",
   "execution_count": 1,
   "id": "206a9eff-b438-4411-8706-e7ce4d569db2",
   "metadata": {
    "scrolled": true
   },
   "outputs": [],
   "source": [
    "import pandas as pd\n",
    "import requests\n",
    "import warnings\n",
    "warnings.filterwarnings(\"ignore\")"
   ]
  },
  {
   "cell_type": "code",
   "execution_count": 2,
   "id": "1533db7d-322c-41dc-96fa-9e0240edfda7",
   "metadata": {},
   "outputs": [],
   "source": [
    "api_key = 'affdac5f248f69b65c935406621fe7ca9e349a23'\n",
    "years = list(range(2010,2024))\n",
    "\n",
    "all_data = []\n",
    "\n",
    "for year in years:\n",
    "    base_url = f\"https://api.census.gov/data/{year}/acs/acs5/profile\"\n",
    "    params = {\n",
    "        \"get\": \"NAME,DP03_0086E,DP03_0009PE,DP03_0088E,DP03_0119PE,DP03_0128PE\",\n",
    "        \"for\": \"state:*\"\n",
    "    }\n",
    "    response = requests.get(base_url, params = params)\n",
    "    if response.status_code == 200:\n",
    "        data = response.json()\n",
    "        columns = data[0]\n",
    "        rows = data[1:]\n",
    "        df = pd.DataFrame(rows,columns = columns)\n",
    "        df['Year'] = year\n",
    "        all_data.append(df)\n",
    "\n",
    "if all_data:\n",
    "    final_df = pd.concat(all_data, ignore_index = True)\n",
    "    final_df = final_df[['Year', 'NAME', 'DP03_0086E', 'DP03_0009PE', 'DP03_0088E', 'DP03_0119PE', 'DP03_0128PE']]\n",
    "    final_df.columns = ['Year', 'State', 'Median Family Income', 'Unemployment Rate', 'Per Capita Income', 'Perc Families BPL', 'Perc Population BPL']\n",
    "\n",
    "for col in ['Median Family Income', 'Unemployment Rate', 'Per Capita Income', 'Perc Families BPL', 'Perc Population BPL']:\n",
    "    final_df[col] = pd.to_numeric(final_df[col], errors = 'coerce')\n",
    "\n",
    "final_df = final_df[~(final_df['State']=='Puerto Rico')]\n",
    "final_df.sort_values(by = ['State','Year'], inplace = True, ignore_index = True)\n",
    "\n",
    "final_df.to_excel('economic_characteristics_2010_2023.xlsx', sheet_name = 'Economic Data')\n"
   ]
  },
  {
   "cell_type": "code",
   "execution_count": null,
   "id": "271042a0-e729-45d2-b959-b28d2c936826",
   "metadata": {},
   "outputs": [],
   "source": []
  },
  {
   "cell_type": "code",
   "execution_count": null,
   "id": "b345e430-2507-416f-aa40-42c36d49dd70",
   "metadata": {},
   "outputs": [],
   "source": []
  },
  {
   "cell_type": "code",
   "execution_count": null,
   "id": "d6d49604-c976-4df7-952f-3f515e53fcd5",
   "metadata": {},
   "outputs": [],
   "source": []
  }
 ],
 "metadata": {
  "kernelspec": {
   "display_name": "Python 3 (ipykernel)",
   "language": "python",
   "name": "python3"
  },
  "language_info": {
   "codemirror_mode": {
    "name": "ipython",
    "version": 3
   },
   "file_extension": ".py",
   "mimetype": "text/x-python",
   "name": "python",
   "nbconvert_exporter": "python",
   "pygments_lexer": "ipython3",
   "version": "3.12.7"
  }
 },
 "nbformat": 4,
 "nbformat_minor": 5
}
